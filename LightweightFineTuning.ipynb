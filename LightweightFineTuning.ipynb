{
 "cells": [
  {
   "cell_type": "markdown",
   "id": "f35354cd",
   "metadata": {},
   "source": [
    "# Lightweight Fine-Tuning Project"
   ]
  },
  {
   "cell_type": "markdown",
   "id": "560fb3ff",
   "metadata": {},
   "source": [
    "Description of Choices\n",
    "\n",
    "* PEFT technique: LoRA (Low-Rank Adaptation) is the selected PEFT techniques since it is compatible with all models\n",
    "* Model: GPT-2 is the selected model since it is relatively small and compatible with sequence classification and LoRA\n",
    "* Evaluation approach: Evaluation will be conducted using Hugging Face's `Trainer` class which simplifies the training and evaluation workflow. accuracy and F1-score are computed using `compute_metrics` function which allaows for a comparison of the performance of the original model against the fine-tunned model\n",
    "* Fine-tuning dataset: The IMDb dataset from the Hugging Face `datasets` library will be used for fine-tunning. This dataset is a standard benchmark for binary sentiment classification tasks making it a good fit in this context."
   ]
  },
  {
   "cell_type": "markdown",
   "id": "de8d76bb",
   "metadata": {},
   "source": [
    "## Loading and Evaluating Foundation Model\n",
    "\n",
    "Load GPT-2 pre-trained Hugging Face model and evaluate its performance prior to fine-tuning\n",
    "\n",
    "The following steps are taken:\n",
    "- Load the GPT-2 model and tokenizer.\n",
    "- Preprocess the IMDb dataset for sequence classification.\n",
    "- Evaluate the baseline performance using accuracy and F1-score."
   ]
  },
  {
   "cell_type": "code",
   "execution_count": 187,
   "id": "589c3575",
   "metadata": {},
   "outputs": [],
   "source": [
    "import importlib\n",
    "import light_weight_finetuning as lft\n",
    "\n",
    "importlib.reload(lft);"
   ]
  },
  {
   "cell_type": "code",
   "execution_count": null,
   "id": "30d616a2",
   "metadata": {},
   "outputs": [],
   "source": [
    "# Define the model and the output directory\n",
    "MODEL_NAME = 'gpt2'\n",
    "OUTPUT_DIR = 'gpt-lora'\n",
    "DATA_SET = 'imdb'\n",
    "\n",
    "base_model, tokenizer = lft.load_base_model('gpt2', num_labels=2)\n",
    "train_dataset, test_dataset = lft.prepare_dataset(DATA_SET, tokenizer)\n",
    "trainer = lft.create_trainer(base_model, train_dataset, test_dataset)\n",
    "\n",
    "# Evaluate the model\n",
    "baseline_metrics = trainer.evaluate()\n",
    "print(\"Baseline Performance:\", baseline_metrics)"
   ]
  },
  {
   "cell_type": "markdown",
   "id": "d3deac38",
   "metadata": {},
   "source": [
    "#### Key Observation ####\n",
    "The metrics suggest that while the model has decent initialization and speed, its performance (accuracy and F1 score) can be improved"
   ]
  },
  {
   "cell_type": "markdown",
   "id": "4d52a229",
   "metadata": {},
   "source": [
    "## Performing Parameter-Efficient Fine-Tuning\n",
    "\n",
    "create a PEFT model from your loaded model, run a training loop, and save the PEFT model weights.\n",
    "\n",
    "In this section:\n",
    "- A LoRA configuration is created with specified parameters for adaptation.\n",
    "- The PEFT model is trained and fine-tuned parameters are saved for later use."
   ]
  },
  {
   "cell_type": "code",
   "execution_count": null,
   "id": "79a6b30e",
   "metadata": {},
   "outputs": [],
   "source": [
    "# Create the PEFT model\n",
    "peft_model = lft.create_peft_model(base_model)\n",
    "\n",
    "# Update the Trainer to use the PEFT model\n",
    "trainer.model = peft_model\n",
    "\n",
    "# Train the model\n",
    "trainer.train()\n",
    "\n",
    "# Save the PEFT model weights\n",
    "peft_model.save_pretrained(OUTPUT_DIR)"
   ]
  },
  {
   "cell_type": "markdown",
   "id": "4e4c3286",
   "metadata": {},
   "source": [
    "#### Key Observations ####\n",
    "- The model showed strong improvement in performance with accuracy increasing from 51.2% to 83.6%\n",
    "- The are signs of overfitting in epoch 3 with training loss dropped to 0.0001\n",
    "- Accuracy and F1 scores stabilized by Epoch 3"
   ]
  },
  {
   "cell_type": "markdown",
   "id": "615b12c6",
   "metadata": {},
   "source": [
    "## Performing Inference with a PEFT Model\n",
    "\n",
    "Load the saved PEFT model weights and evaluate the performance of the trained PEFT model. Compare the  results to the results from prior to fine-tuning."
   ]
  },
  {
   "cell_type": "code",
   "execution_count": null,
   "id": "863ec66e",
   "metadata": {},
   "outputs": [],
   "source": [
    "# Load and Evaluate saved fine-tuned model\n",
    "fine_tuned_metrics, fine_tuned_model = lft.load_saved_model(base_model, OUTPUT_DIR, test_dataset)\n",
    "\n",
    "# Print comparison of metrics\n",
    "print(\"\\nPerformance Comparison:\")\n",
    "print(\"-\" * 50)\n",
    "print(\"Metric       | Baseline | Fine-tuned\")\n",
    "print(\"-\" * 50)\n",
    "print(f\"Accuracy     | {baseline_metrics['eval_accuracy']:.4f}   | {fine_tuned_metrics['eval_accuracy']:.4f}\")\n",
    "print(f\"F1 Score     | {baseline_metrics['eval_f1']:.4f}   | {fine_tuned_metrics['eval_f1']:.4f}\")\n",
    "print(f\"Loss         | {baseline_metrics['eval_loss']:.4f}   | {fine_tuned_metrics['eval_loss']:.4f}\")\n",
    "print(\"-\" * 50)\n"
   ]
  },
  {
   "cell_type": "markdown",
   "id": "af2ce733",
   "metadata": {},
   "source": [
    "#### Key Observations ####\n",
    "- The PEFT model significantly outperforms the Base Model in accuracy and F1 score, indicating better generalization and effectiveness.\n",
    "- The PEFT model slightly reduces the evaluation loss compared to the Base Model."
   ]
  },
  {
   "cell_type": "code",
   "execution_count": null,
   "id": "c86fbdbd",
   "metadata": {},
   "outputs": [],
   "source": [
    "# Demonstrate inference on sample texts\n",
    "sample_texts = [\n",
    "    \"The movie was absolutely wonderful! A masterpiece.\",\n",
    "    \"Terrible movie. I would not recommend it to anyone.\",\n",
    "    \"It was just okay, nothing too special.\",\n",
    "]\n",
    "inputs = tokenizer(sample_texts, return_tensors=\"pt\", padding=True, truncation=True, max_length=512)\n",
    "\n",
    "predictions = lft.predictions(fine_tuned_model, inputs)\n",
    "\n",
    "# Make a dataframe with the sample texts, predictions, and predicted labels\n",
    "import pandas as pd\n",
    "df = pd.DataFrame({\n",
    "    \"text\": sample_texts,\n",
    "    \"prediction\": predictions,\n",
    "    \"predicted_label\": [base_model.config.id2label[p] for p in predictions]\n",
    "}) \n",
    "\n",
    "# Show all the cells in the dataframe\n",
    "pd.set_option(\"display.max_colwidth\", None)\n",
    "print(df)"
   ]
  },
  {
   "cell_type": "markdown",
   "id": "0ee3f41b",
   "metadata": {},
   "source": [
    "### Key Observations ###\n",
    "\n",
    "- The model accurately classified one review as positive (1), which was a highly favorable comment about the movie.\n",
    "- It correctly identified a negative review as negative (0), showcasing its ability to discern critical feedback.\n",
    "- A neutral or mixed review was also classified as negative (0), which might indicate a lack of nuance in distinguishing between neutral and negative sentiments.\n",
    "\n",
    "Overall, the model performed well in identifying clear positive and negative sentiments but might need refinement to handle more nuanced or neutral statements effectively."
   ]
  }
 ],
 "metadata": {
  "kernelspec": {
   "display_name": "Python 3 (ipykernel)",
   "language": "python",
   "name": "python3"
  },
  "language_info": {
   "codemirror_mode": {
    "name": "ipython",
    "version": 3
   },
   "file_extension": ".py",
   "mimetype": "text/x-python",
   "name": "python",
   "nbconvert_exporter": "python",
   "pygments_lexer": "ipython3",
   "version": "3.12.4"
  }
 },
 "nbformat": 4,
 "nbformat_minor": 5
}
